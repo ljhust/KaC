{
  "nbformat": 4,
  "nbformat_minor": 0,
  "metadata": {
    "colab": {
      "name": "Lift your model performance.ipynb",
      "provenance": [],
      "authorship_tag": "ABX9TyN6MqORpbd8PS0VnVtyued4",
      "include_colab_link": true
    },
    "kernelspec": {
      "name": "python3",
      "display_name": "Python 3"
    }
  },
  "cells": [
    {
      "cell_type": "markdown",
      "metadata": {
        "id": "view-in-github",
        "colab_type": "text"
      },
      "source": [
        "<a href=\"https://colab.research.google.com/github/ljhust/KaC/blob/master/Lift_your_model_performance.ipynb\" target=\"_parent\"><img src=\"https://colab.research.google.com/assets/colab-badge.svg\" alt=\"Open In Colab\"/></a>"
      ]
    },
    {
      "cell_type": "markdown",
      "metadata": {
        "id": "UxpD-oAVru4y",
        "colab_type": "text"
      },
      "source": [
        "#### Major subjects and something concerns\n",
        "+ Data inspector\n",
        " - train data and test data in the same distribution.\n",
        " - look into the data.\n",
        "+ Feature\n",
        " - Auto features and their corrisponding weight.\n",
        " - Artificial feature.\n",
        "+ model debuging\n",
        " - metrics which how to evalutae your performance matter, chosing one or serveral profile your model comprehensively and correctly.\n",
        " - tensor-board like tool to use."
      ]
    },
    {
      "cell_type": "markdown",
      "metadata": {
        "id": "SzA6dnjnVniJ",
        "colab_type": "text"
      },
      "source": [
        "#### metric\n",
        "+ classification\n",
        " - accuracy\n",
        " - precision\n",
        " - recall\n",
        " - roc_auc\n",
        "+ clustering\n",
        " - adjusted_mutual_info_score\n",
        " - adjusted_rand_score\n",
        " - completeness_score\n",
        " - fowlkes_mallows_score\n",
        " - homogeneity_score\n",
        " - mutual_info_score\n",
        " - normalized_mutual_info_score\n",
        " - v_measure_score\n",
        "+ Regression\n",
        " - explained_variance\n",
        " - max_error\n",
        " - neg_mean_absolute_error\n",
        " - neg_mean_squared_error\n",
        " - neg_root_mean_squared_error\n",
        " - neg_mean_squared_log_error\n",
        " - neg_median_absolute_error\n",
        " - r2\n",
        " - neg_mean_poisson_deviance\n",
        " - neg_mean_gamma_deviance\n",
        " "
      ]
    },
    {
      "cell_type": "code",
      "metadata": {
        "id": "p3LxVIl0rh_G",
        "colab_type": "code",
        "colab": {}
      },
      "source": [
        ""
      ],
      "execution_count": 0,
      "outputs": []
    }
  ]
}